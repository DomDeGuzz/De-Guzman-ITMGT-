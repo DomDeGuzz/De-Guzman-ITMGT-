{
 "cells": [
  {
   "cell_type": "code",
   "execution_count": 1,
   "id": "a261e376-d291-434d-81df-45cd9d6b915a",
   "metadata": {},
   "outputs": [
    {
     "name": "stdout",
     "output_type": "stream",
     "text": [
      "Number of lines: 99968\n",
      "Number of words: 795227\n",
      "Occurrences of 'apostle': 47\n",
      "Most common word: the\n",
      "Occurrences: 64309\n"
     ]
    }
   ],
   "source": [
    "import urllib.request\n",
    "\n",
    "pg10 = urllib.request.urlopen(\"https://www.gutenberg.org/cache/epub/10/pg10.txt\").read().decode()\n",
    "\n",
    "num_lines = len(pg10.splitlines())\n",
    "print(\"Number of lines:\", num_lines)\n",
    "\n",
    "import re\n",
    "\n",
    "words = re.findall(r'[a-zA-Z]+', pg10)  # Only alphabet characters\n",
    "num_words = len(words)\n",
    "print(\"Number of words:\", num_words)\n",
    "\n",
    "apostle_count = sum(1 for word in words if word.lower() == 'apostle')\n",
    "print(\"Occurrences of 'apostle':\", apostle_count)\n",
    "\n",
    "from collections import Counter\n",
    "\n",
    "lowercase_words = [word.lower() for word in words]\n",
    "word_counts = Counter(lowercase_words)\n",
    "most_common_word, most_common_count = word_counts.most_common(1)[0]\n",
    "\n",
    "print(\"Most common word:\", most_common_word)\n",
    "print(\"Occurrences:\", most_common_count)\n"
   ]
  },
  {
   "cell_type": "code",
   "execution_count": null,
   "id": "05ec3534-2fee-43ae-b09b-6c3ee475f9bb",
   "metadata": {},
   "outputs": [],
   "source": []
  },
  {
   "cell_type": "code",
   "execution_count": null,
   "id": "b0f97572-7b3c-423d-8045-9c77acd99d2c",
   "metadata": {},
   "outputs": [],
   "source": []
  }
 ],
 "metadata": {
  "kernelspec": {
   "display_name": "Python [conda env:base] *",
   "language": "python",
   "name": "conda-base-py"
  },
  "language_info": {
   "codemirror_mode": {
    "name": "ipython",
    "version": 3
   },
   "file_extension": ".py",
   "mimetype": "text/x-python",
   "name": "python",
   "nbconvert_exporter": "python",
   "pygments_lexer": "ipython3",
   "version": "3.12.7"
  }
 },
 "nbformat": 4,
 "nbformat_minor": 5
}
